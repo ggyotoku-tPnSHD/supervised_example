{
 "cells": [
  {
   "cell_type": "markdown",
   "metadata": {},
   "source": [
    "### Predictions\n",
    "\n",
    "**1. Prediction 1**\n",
    "\n",
    "- With an unscaled dataset, the RandomForest classifier will do better because the logistic regression is sensitive to the large variance\n",
    "\n",
    "**2. Prediction 2**\n",
    "\n",
    "- With a scaled dataset, both model should predict about the same.\n",
    "\n",
    "**3. Comparison #1**\n",
    "\n",
    "- With an unscaled dataset, both model were \"guessing\", and the RandomForest classifier was overfitting the training data.\n",
    "\n",
    "**3. Comparison #2**\n",
    "\n",
    "- The results were an improvement from 56% to 76%"
   ]
  },
  {
   "cell_type": "code",
   "execution_count": 1,
   "metadata": {},
   "outputs": [],
   "source": [
    "import numpy as np\n",
    "import pandas as pd\n",
    "from pathlib import Path"
   ]
  },
  {
   "cell_type": "code",
   "execution_count": 2,
   "metadata": {},
   "outputs": [],
   "source": [
    "train_df = pd.read_csv(Path('Resources/Generator/2019loans.csv'))\n",
    "test_df = pd.read_csv(Path('Resources/Generator/2020Q1loans.csv'))"
   ]
  },
  {
   "cell_type": "code",
   "execution_count": 3,
   "metadata": {},
   "outputs": [],
   "source": [
    "# Convert categorical data to numeric and separate target feature for testing data\n",
    "\n",
    "train_x = train_df.drop(columns='target')\n",
    "train_x = pd.get_dummies(train_x)\n",
    "train_y = train_df['target']\n",
    "from sklearn.preprocessing import LabelEncoder\n",
    "\n",
    "label_enc = LabelEncoder()\n",
    "# train_y = train_y['target'].map({'high risk':1, 'low risk':0})\n",
    "train_y = label_enc.fit_transform(train_y)\n",
    "\n"
   ]
  },
  {
   "cell_type": "code",
   "execution_count": 4,
   "metadata": {},
   "outputs": [],
   "source": [
    "# add missing dummy variables to testing set\n",
    "test_x = test_df.drop(columns='target')\n",
    "test_x = pd.get_dummies(test_x)\n",
    "test_y = test_df['target']\n",
    "test_y = label_enc.fit_transform(test_y)\n"
   ]
  },
  {
   "cell_type": "code",
   "execution_count": 5,
   "metadata": {},
   "outputs": [
    {
     "name": "stdout",
     "output_type": "stream",
     "text": [
      "['debt_settlement_flag_Y']\n"
     ]
    }
   ],
   "source": [
    "matching_columns = []\n",
    "for item in train_x.columns:\n",
    "    if item in test_x.columns:\n",
    "        pass\n",
    "    else:\n",
    "        matching_columns.append(item)\n",
    "print(matching_columns)"
   ]
  },
  {
   "cell_type": "code",
   "execution_count": 6,
   "metadata": {},
   "outputs": [],
   "source": [
    "train_x = train_x.drop(columns='debt_settlement_flag_Y')"
   ]
  },
  {
   "cell_type": "code",
   "execution_count": 7,
   "metadata": {},
   "outputs": [
    {
     "name": "stdout",
     "output_type": "stream",
     "text": [
      "Training Score: 0.7034482758620689\n",
      "Testing Socre: 0.5659293917481922\n"
     ]
    }
   ],
   "source": [
    "# Train the Logistic Regression model on the unscaled data and print the model score\n",
    "from sklearn.linear_model import LogisticRegression\n",
    "\n",
    "clf = LogisticRegression(solver='lbfgs', max_iter=200000)\n",
    "clf.fit(train_x, train_y)\n",
    "print(f'Training Score: {clf.score(train_x, train_y)}')\n",
    "print(f'Testing Socre: {clf.score(test_x, test_y)}')"
   ]
  },
  {
   "cell_type": "code",
   "execution_count": 8,
   "metadata": {},
   "outputs": [
    {
     "name": "stdout",
     "output_type": "stream",
     "text": [
      "Training Score: 1.0\n",
      "Testing Socre: 0.647809442790302\n"
     ]
    }
   ],
   "source": [
    "# Train a Random Forest Classifier model and print the model score\n",
    "from sklearn.ensemble import RandomForestClassifier\n",
    "\n",
    "clf2 = RandomForestClassifier()\n",
    "clf2.fit(train_x, train_y)\n",
    "print(f'Training Score: {clf2.score(train_x, train_y)}')\n",
    "print(f'Testing Socre: {clf2.score(test_x, test_y)}')\n"
   ]
  },
  {
   "cell_type": "code",
   "execution_count": 9,
   "metadata": {},
   "outputs": [],
   "source": [
    "# Scale the data\n",
    "\n",
    "from sklearn.preprocessing import StandardScaler\n",
    "\n",
    "scaler = StandardScaler().fit(train_x)\n",
    "X_train_scaled = scaler.transform(train_x)\n",
    "X_test_scaled = scaler.transform(test_x)\n"
   ]
  },
  {
   "cell_type": "code",
   "execution_count": 10,
   "metadata": {},
   "outputs": [
    {
     "name": "stdout",
     "output_type": "stream",
     "text": [
      "Training Score: 0.710919540229885\n",
      "Testing Socre: 0.7598894087622289\n"
     ]
    }
   ],
   "source": [
    "# Train the Logistic Regression model on the scaled data and print the model score\n",
    "clf = LogisticRegression(solver='lbfgs', max_iter=200000)\n",
    "clf.fit(X_train_scaled, train_y)\n",
    "print(f'Training Score: {clf.score(X_train_scaled, train_y)}')\n",
    "print(f'Testing Socre: {clf.score(X_test_scaled, test_y)}')"
   ]
  },
  {
   "cell_type": "code",
   "execution_count": 11,
   "metadata": {},
   "outputs": [
    {
     "name": "stdout",
     "output_type": "stream",
     "text": [
      "Training Score: 0.710919540229885\n",
      "Testing Score: 0.7598894087622289\n"
     ]
    }
   ],
   "source": [
    "# Train a Random Forest Classifier model on the scaled data and print the model score\n",
    "clf2.fit(X_train_scaled, train_y)\n",
    "print(f'Training Score: {clf.score(X_train_scaled, train_y)}')\n",
    "print(f'Testing Score: {clf.score(X_test_scaled, test_y)}')"
   ]
  },
  {
   "cell_type": "code",
   "execution_count": 13,
   "metadata": {},
   "outputs": [
    {
     "data": {
      "image/png": "[encoded data removed]",
      "text/plain": [
       "<Figure size 432x288 with 1 Axes>"
      ]
     },
     "metadata": {
      "needs_background": "light"
     },
     "output_type": "display_data"
    }
   ],
   "source": [
    "%matplotlib inline\n",
    "from matplotlib import pyplot as plt\n",
    "features = clf2.feature_importances_\n",
    "# print(features)\n",
    "plt.bar(x = range(len(features)), height=features)\n",
    "plt.show()"
   ]
  },
  {
   "cell_type": "code",
   "execution_count": 14,
   "metadata": {},
   "outputs": [
    {
     "data": {
      "text/plain": [
       "array([ True,  True,  True,  True,  True, False, False, False, False,\n",
       "        True, False,  True,  True,  True,  True,  True,  True,  True,\n",
       "       False, False,  True, False, False, False, False,  True, False,\n",
       "       False, False, False,  True,  True,  True, False, False,  True,\n",
       "        True,  True, False, False, False, False,  True,  True,  True,\n",
       "       False, False,  True,  True,  True, False, False,  True,  True,\n",
       "       False, False, False, False, False, False, False, False, False,\n",
       "       False, False, False, False, False, False, False, False, False,\n",
       "        True,  True,  True,  True, False, False, False, False, False,\n",
       "       False, False, False, False, False, False, False, False, False,\n",
       "       False])"
      ]
     },
     "execution_count": 14,
     "metadata": {},
     "output_type": "execute_result"
    }
   ],
   "source": [
    "from sklearn.feature_selection import SelectFromModel\n",
    "sel = SelectFromModel(clf2)\n",
    "sel.fit(X_train_scaled, train_y)\n",
    "sel.get_support()"
   ]
  },
  {
   "cell_type": "code",
   "execution_count": 15,
   "metadata": {},
   "outputs": [
    {
     "name": "stdout",
     "output_type": "stream",
     "text": [
      "Training Score: 0.7110016420361248\n",
      "Testing Score: 0.7692471288813271\n"
     ]
    }
   ],
   "source": [
    "train_selected = sel.transform(X_train_scaled)\n",
    "test_selected = sel.transform(X_test_scaled)\n",
    "clf = LogisticRegression(solver='lbfgs', max_iter=200000\n",
    ")\n",
    "clf.fit(train_selected, train_y)\n",
    "print(f'Training Score: {clf.score(train_selected, train_y)}')\n",
    "print(f'Testing Score: {clf.score(test_selected, test_y)}')\n"
   ]
  },
  {
   "cell_type": "code",
   "execution_count": 16,
   "metadata": {},
   "outputs": [
    {
     "name": "stdout",
     "output_type": "stream",
     "text": [
      "Training Score: 0.7110016420361248\n",
      "Testing Score: 0.7692471288813271\n"
     ]
    }
   ],
   "source": [
    "clf2.fit(train_selected, train_y)\n",
    "print(f'Training Score: {clf.score(train_selected, train_y)}')\n",
    "print(f'Testing Score: {clf.score(test_selected, test_y)}')"
   ]
  }
 ],
 "metadata": {
  "interpreter": {
   "hash": "708be08e11aab052d163876fb7e5f0950b68df23e3ca93fef65e76b7852dc274"
  },
  "kernelspec": {
   "display_name": "Python 3.9.7 ('base')",
   "language": "python",
   "name": "python3"
  },
  "language_info": {
   "codemirror_mode": {
    "name": "ipython",
    "version": 3
   },
   "file_extension": ".py",
   "mimetype": "text/x-python",
   "name": "python",
   "nbconvert_exporter": "python",
   "pygments_lexer": "ipython3",
   "version": "3.9.7"
  }
 },
 "nbformat": 4,
 "nbformat_minor": 4
}
